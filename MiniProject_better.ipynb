{
 "cells": [
  {
   "cell_type": "code",
   "execution_count": null,
   "metadata": {},
   "outputs": [],
   "source": [
    "# Data Source: https://www.kaggle.com/worldbank/world-development-indicators"
   ]
  },
  {
   "cell_type": "markdown",
   "metadata": {},
   "source": [
    "<br><p style=\"font-family: Arial; font-size:3.75em;color:blue; font-style:bold\">\n",
    "MiniProject <br> <br> <br>World Development Incicators</p><br><br>"
   ]
  },
  {
   "cell_type": "markdown",
   "metadata": {},
   "source": [
    "# Step 1: Initial exploration of the Dataset"
   ]
  },
  {
   "cell_type": "code",
   "execution_count": 249,
   "metadata": {},
   "outputs": [],
   "source": [
    "import pandas as pd\n",
    "import numpy as np\n",
    "import matplotlib.pyplot as plt"
   ]
  },
  {
   "cell_type": "code",
   "execution_count": 250,
   "metadata": {},
   "outputs": [
    {
     "data": {
      "text/plain": [
       "(5656458, 6)"
      ]
     },
     "execution_count": 250,
     "metadata": {},
     "output_type": "execute_result"
    }
   ],
   "source": [
    "data = pd.read_csv('./world-development-indicators/Indicators.csv') #in the same folder add the data \n",
    "data.shape"
   ]
  },
  {
   "cell_type": "markdown",
   "metadata": {},
   "source": [
    "### Are there any Null values?"
   ]
  },
  {
   "cell_type": "code",
   "execution_count": 251,
   "metadata": {},
   "outputs": [
    {
     "data": {
      "text/plain": [
       "CountryName      False\n",
       "CountryCode      False\n",
       "IndicatorName    False\n",
       "IndicatorCode    False\n",
       "Year             False\n",
       "Value            False\n",
       "dtype: bool"
      ]
     },
     "execution_count": 251,
     "metadata": {},
     "output_type": "execute_result"
    }
   ],
   "source": [
    "# Check if there are NaN values\n",
    "data.isnull().any()"
   ]
  },
  {
   "cell_type": "markdown",
   "metadata": {},
   "source": [
    "Explore what data set holds in"
   ]
  },
  {
   "cell_type": "code",
   "execution_count": 252,
   "metadata": {},
   "outputs": [
    {
     "data": {
      "text/html": [
       "<div>\n",
       "<style scoped>\n",
       "    .dataframe tbody tr th:only-of-type {\n",
       "        vertical-align: middle;\n",
       "    }\n",
       "\n",
       "    .dataframe tbody tr th {\n",
       "        vertical-align: top;\n",
       "    }\n",
       "\n",
       "    .dataframe thead th {\n",
       "        text-align: right;\n",
       "    }\n",
       "</style>\n",
       "<table border=\"1\" class=\"dataframe\">\n",
       "  <thead>\n",
       "    <tr style=\"text-align: right;\">\n",
       "      <th></th>\n",
       "      <th>CountryName</th>\n",
       "      <th>CountryCode</th>\n",
       "      <th>IndicatorName</th>\n",
       "      <th>IndicatorCode</th>\n",
       "      <th>Year</th>\n",
       "      <th>Value</th>\n",
       "    </tr>\n",
       "  </thead>\n",
       "  <tbody>\n",
       "    <tr>\n",
       "      <th>0</th>\n",
       "      <td>Arab World</td>\n",
       "      <td>ARB</td>\n",
       "      <td>Adolescent fertility rate (births per 1,000 wo...</td>\n",
       "      <td>SP.ADO.TFRT</td>\n",
       "      <td>1960</td>\n",
       "      <td>133.560907</td>\n",
       "    </tr>\n",
       "    <tr>\n",
       "      <th>1</th>\n",
       "      <td>Arab World</td>\n",
       "      <td>ARB</td>\n",
       "      <td>Age dependency ratio (% of working-age populat...</td>\n",
       "      <td>SP.POP.DPND</td>\n",
       "      <td>1960</td>\n",
       "      <td>87.797601</td>\n",
       "    </tr>\n",
       "    <tr>\n",
       "      <th>2</th>\n",
       "      <td>Arab World</td>\n",
       "      <td>ARB</td>\n",
       "      <td>Age dependency ratio, old (% of working-age po...</td>\n",
       "      <td>SP.POP.DPND.OL</td>\n",
       "      <td>1960</td>\n",
       "      <td>6.634579</td>\n",
       "    </tr>\n",
       "  </tbody>\n",
       "</table>\n",
       "</div>"
      ],
      "text/plain": [
       "  CountryName CountryCode                                      IndicatorName  \\\n",
       "0  Arab World         ARB  Adolescent fertility rate (births per 1,000 wo...   \n",
       "1  Arab World         ARB  Age dependency ratio (% of working-age populat...   \n",
       "2  Arab World         ARB  Age dependency ratio, old (% of working-age po...   \n",
       "\n",
       "    IndicatorCode  Year       Value  \n",
       "0     SP.ADO.TFRT  1960  133.560907  \n",
       "1     SP.POP.DPND  1960   87.797601  \n",
       "2  SP.POP.DPND.OL  1960    6.634579  "
      ]
     },
     "execution_count": 252,
     "metadata": {},
     "output_type": "execute_result"
    }
   ],
   "source": [
    "data.head(3)"
   ]
  },
  {
   "cell_type": "markdown",
   "metadata": {},
   "source": [
    "### How many UNIQUE indicator names are there ?"
   ]
  },
  {
   "cell_type": "code",
   "execution_count": 253,
   "metadata": {},
   "outputs": [
    {
     "data": {
      "text/plain": [
       "247"
      ]
     },
     "execution_count": 253,
     "metadata": {},
     "output_type": "execute_result"
    }
   ],
   "source": [
    "country = data['CountryName'].unique().tolist()\n",
    "len(country)"
   ]
  },
  {
   "cell_type": "markdown",
   "metadata": {},
   "source": [
    "### Are there many indicators or few ?"
   ]
  },
  {
   "cell_type": "code",
   "execution_count": 254,
   "metadata": {},
   "outputs": [
    {
     "data": {
      "text/plain": [
       "1344"
      ]
     },
     "execution_count": 254,
     "metadata": {},
     "output_type": "execute_result"
    }
   ],
   "source": [
    "# How many unique indicators are there ? (should be the same #)\n",
    "indicators = data['IndicatorName'].unique().tolist()\n",
    "len(indicators)"
   ]
  },
  {
   "cell_type": "markdown",
   "metadata": {},
   "source": [
    "### How many years of data do we have ?"
   ]
  },
  {
   "cell_type": "code",
   "execution_count": 255,
   "metadata": {},
   "outputs": [
    {
     "data": {
      "text/plain": [
       "56"
      ]
     },
     "execution_count": 255,
     "metadata": {},
     "output_type": "execute_result"
    }
   ],
   "source": [
    "# How many years of data do we have ?\n",
    "years = data['Year'].unique().tolist()\n",
    "len(years)"
   ]
  },
  {
   "cell_type": "markdown",
   "metadata": {},
   "source": [
    "### What's the range of years?"
   ]
  },
  {
   "cell_type": "code",
   "execution_count": 256,
   "metadata": {},
   "outputs": [
    {
     "name": "stdout",
     "output_type": "stream",
     "text": [
      "1960  to  2015\n"
     ]
    }
   ],
   "source": [
    "print(min(years),\" to \",max(years))"
   ]
  },
  {
   "cell_type": "markdown",
   "metadata": {},
   "source": [
    "# Step 2: Initial plot to for better understanding the data"
   ]
  },
  {
   "cell_type": "markdown",
   "metadata": {},
   "source": [
    "### Lets pick a country and an indicator to explore: Water annual consumption in Poland"
   ]
  },
  {
   "cell_type": "code",
   "execution_count": 257,
   "metadata": {},
   "outputs": [],
   "source": [
    "hist_indicator = 'Self-employed, total \\(%'\n",
    "hist_country = 'POL'\n",
    "hist_country_2 = 'COL'\n",
    "hist_country_3 = 'USA'\n",
    "\n",
    "mask1 = data['IndicatorName'].str.contains(hist_indicator) \n",
    "mask2 = data['CountryCode'].str.contains(hist_country)\n",
    "mask3 = data['CountryCode'].str.contains(hist_country_2)\n",
    "mask4 = data['CountryCode'].str.contains(hist_country_3)\n",
    "\n",
    "# combine mask 1 and 2\n",
    "stage = data[mask1 & mask2]\n",
    "stage2 = data[mask1&mask3]\n",
    "stage3 = data[mask1&mask4]"
   ]
  },
  {
   "cell_type": "code",
   "execution_count": 258,
   "metadata": {},
   "outputs": [
    {
     "data": {
      "text/html": [
       "<div>\n",
       "<style scoped>\n",
       "    .dataframe tbody tr th:only-of-type {\n",
       "        vertical-align: middle;\n",
       "    }\n",
       "\n",
       "    .dataframe tbody tr th {\n",
       "        vertical-align: top;\n",
       "    }\n",
       "\n",
       "    .dataframe thead th {\n",
       "        text-align: right;\n",
       "    }\n",
       "</style>\n",
       "<table border=\"1\" class=\"dataframe\">\n",
       "  <thead>\n",
       "    <tr style=\"text-align: right;\">\n",
       "      <th></th>\n",
       "      <th>CountryName</th>\n",
       "      <th>CountryCode</th>\n",
       "      <th>IndicatorName</th>\n",
       "      <th>IndicatorCode</th>\n",
       "      <th>Year</th>\n",
       "      <th>Value</th>\n",
       "    </tr>\n",
       "  </thead>\n",
       "  <tbody>\n",
       "    <tr>\n",
       "      <th>1074047</th>\n",
       "      <td>Poland</td>\n",
       "      <td>POL</td>\n",
       "      <td>Self-employed, total (% of total employed)</td>\n",
       "      <td>SL.EMP.SELF.ZS</td>\n",
       "      <td>1980</td>\n",
       "      <td>25.400000</td>\n",
       "    </tr>\n",
       "    <tr>\n",
       "      <th>1157619</th>\n",
       "      <td>Poland</td>\n",
       "      <td>POL</td>\n",
       "      <td>Self-employed, total (% of total employed)</td>\n",
       "      <td>SL.EMP.SELF.ZS</td>\n",
       "      <td>1981</td>\n",
       "      <td>25.700001</td>\n",
       "    </tr>\n",
       "    <tr>\n",
       "      <th>1242583</th>\n",
       "      <td>Poland</td>\n",
       "      <td>POL</td>\n",
       "      <td>Self-employed, total (% of total employed)</td>\n",
       "      <td>SL.EMP.SELF.ZS</td>\n",
       "      <td>1982</td>\n",
       "      <td>26.900000</td>\n",
       "    </tr>\n",
       "  </tbody>\n",
       "</table>\n",
       "</div>"
      ],
      "text/plain": [
       "        CountryName CountryCode                               IndicatorName  \\\n",
       "1074047      Poland         POL  Self-employed, total (% of total employed)   \n",
       "1157619      Poland         POL  Self-employed, total (% of total employed)   \n",
       "1242583      Poland         POL  Self-employed, total (% of total employed)   \n",
       "\n",
       "          IndicatorCode  Year      Value  \n",
       "1074047  SL.EMP.SELF.ZS  1980  25.400000  \n",
       "1157619  SL.EMP.SELF.ZS  1981  25.700001  \n",
       "1242583  SL.EMP.SELF.ZS  1982  26.900000  "
      ]
     },
     "execution_count": 258,
     "metadata": {},
     "output_type": "execute_result"
    }
   ],
   "source": [
    "stage.head(3)"
   ]
  },
  {
   "cell_type": "markdown",
   "metadata": {},
   "source": [
    "### Let's see self employment have changed over time using MatplotLib"
   ]
  },
  {
   "cell_type": "code",
   "execution_count": 259,
   "metadata": {},
   "outputs": [
    {
     "data": {
      "image/png": "[encoded data removed]",
      "text/plain": [
       "<Figure size 720x504 with 1 Axes>"
      ]
     },
     "metadata": {
      "needs_background": "light"
     },
     "output_type": "display_data"
    }
   ],
   "source": [
    "# get the years\n",
    "years = stage['Year'].values\n",
    "# get the values \n",
    "empl = stage['Value'].values\n",
    "\n",
    "fig, axis = plt.subplots(figsize=(10,7)) \n",
    "# create\n",
    "plt.bar(years,empl)\n",
    "plt.show()"
   ]
  },
  {
   "cell_type": "markdown",
   "metadata": {},
   "source": [
    "Change the graph for a line plot "
   ]
  },
  {
   "cell_type": "code",
   "execution_count": 265,
   "metadata": {},
   "outputs": [
    {
     "data": {
      "image/png": "[encoded data removed]",
      "text/plain": [
       "<Figure size 720x504 with 1 Axes>"
      ]
     },
     "metadata": {
      "needs_background": "light"
     },
     "output_type": "display_data"
    }
   ],
   "source": [
    "# switch to a line plot\n",
    "fig, axis = plt.subplots(figsize=(10,7))  \n",
    "\n",
    "plt.plot(stage['Year'].values, stage['Value'].values)\n",
    "plt.plot(stage2['Year'].values, stage2['Value'].values)\n",
    "plt.plot(stage3['Year'].values, stage3['Value'].values)\n",
    "\n",
    "# Label the axes and title\n",
    "axis.set_title('Self employment rate in Poland, Colombia and USA',fontsize=20, pad=25)\n",
    "axis.set_xlabel('Year',fontsize=12, labelpad=25)\n",
    "axis.set_ylabel(stage['IndicatorName'].iloc[0],fontsize=12, labelpad=25)\n",
    "\n",
    "# to make more honest, start they y axis at 0\n",
    "plt.axis([1990, 2015,0,60])\n",
    "\n",
    "plt.gca().legend(('POL','COL','USA'))\n",
    "\n",
    "plt.show()"
   ]
  },
  {
   "cell_type": "markdown",
   "metadata": {},
   "source": [
    "### Using Histograms to explore the distribution of values\n"
   ]
  },
  {
   "cell_type": "code",
   "execution_count": 266,
   "metadata": {},
   "outputs": [],
   "source": [
    "hist_data = stage['Value'].values"
   ]
  },
  {
   "cell_type": "code",
   "execution_count": 267,
   "metadata": {},
   "outputs": [
    {
     "name": "stdout",
     "output_type": "stream",
     "text": [
      "35\n"
     ]
    }
   ],
   "source": [
    "print(len(hist_data))"
   ]
  },
  {
   "cell_type": "code",
   "execution_count": 268,
   "metadata": {},
   "outputs": [
    {
     "data": {
      "image/png": "[encoded data removed]",
      "text/plain": [
       "<Figure size 720x504 with 1 Axes>"
      ]
     },
     "metadata": {
      "needs_background": "light"
     },
     "output_type": "display_data"
    }
   ],
   "source": [
    "# the histogram of the data\n",
    "fig, axis = plt.subplots(figsize=(10,7))  \n",
    "\n",
    "plt.hist(hist_data, 10, density=False, facecolor='purple')\n",
    "\n",
    "plt.xlabel(stage['IndicatorName'].iloc[0])\n",
    "plt.ylabel('# of Years')\n",
    "plt.title('Histogram for Poland')\n",
    "plt.grid(True)\n",
    "plt.show()"
   ]
  },
  {
   "cell_type": "markdown",
   "metadata": {},
   "source": [
    "The employment rate in Poland vary from 21-31%."
   ]
  },
  {
   "cell_type": "markdown",
   "metadata": {},
   "source": [
    "### But how do Poland numbers relate to those of other countries?"
   ]
  },
  {
   "cell_type": "code",
   "execution_count": 269,
   "metadata": {},
   "outputs": [
    {
     "data": {
      "text/html": [
       "<div>\n",
       "<style scoped>\n",
       "    .dataframe tbody tr th:only-of-type {\n",
       "        vertical-align: middle;\n",
       "    }\n",
       "\n",
       "    .dataframe tbody tr th {\n",
       "        vertical-align: top;\n",
       "    }\n",
       "\n",
       "    .dataframe thead th {\n",
       "        text-align: right;\n",
       "    }\n",
       "</style>\n",
       "<table border=\"1\" class=\"dataframe\">\n",
       "  <thead>\n",
       "    <tr style=\"text-align: right;\">\n",
       "      <th></th>\n",
       "      <th>CountryName</th>\n",
       "      <th>CountryCode</th>\n",
       "      <th>IndicatorName</th>\n",
       "      <th>IndicatorCode</th>\n",
       "      <th>Year</th>\n",
       "      <th>Value</th>\n",
       "    </tr>\n",
       "  </thead>\n",
       "  <tbody>\n",
       "    <tr>\n",
       "      <th>5027728</th>\n",
       "      <td>Central Europe and the Baltics</td>\n",
       "      <td>CEB</td>\n",
       "      <td>Self-employed, total (% of total employed)</td>\n",
       "      <td>SL.EMP.SELF.ZS</td>\n",
       "      <td>2011</td>\n",
       "      <td>21.422639</td>\n",
       "    </tr>\n",
       "    <tr>\n",
       "      <th>5029656</th>\n",
       "      <td>Euro area</td>\n",
       "      <td>EMU</td>\n",
       "      <td>Self-employed, total (% of total employed)</td>\n",
       "      <td>SL.EMP.SELF.ZS</td>\n",
       "      <td>2011</td>\n",
       "      <td>15.887826</td>\n",
       "    </tr>\n",
       "    <tr>\n",
       "      <th>5030300</th>\n",
       "      <td>Europe &amp; Central Asia (all income levels)</td>\n",
       "      <td>ECS</td>\n",
       "      <td>Self-employed, total (% of total employed)</td>\n",
       "      <td>SL.EMP.SELF.ZS</td>\n",
       "      <td>2011</td>\n",
       "      <td>17.945656</td>\n",
       "    </tr>\n",
       "    <tr>\n",
       "      <th>5031157</th>\n",
       "      <td>Europe &amp; Central Asia (developing only)</td>\n",
       "      <td>ECA</td>\n",
       "      <td>Self-employed, total (% of total employed)</td>\n",
       "      <td>SL.EMP.SELF.ZS</td>\n",
       "      <td>2011</td>\n",
       "      <td>32.870729</td>\n",
       "    </tr>\n",
       "    <tr>\n",
       "      <th>5031751</th>\n",
       "      <td>European Union</td>\n",
       "      <td>EUU</td>\n",
       "      <td>Self-employed, total (% of total employed)</td>\n",
       "      <td>SL.EMP.SELF.ZS</td>\n",
       "      <td>2011</td>\n",
       "      <td>16.645202</td>\n",
       "    </tr>\n",
       "  </tbody>\n",
       "</table>\n",
       "</div>"
      ],
      "text/plain": [
       "                                       CountryName CountryCode  \\\n",
       "5027728             Central Europe and the Baltics         CEB   \n",
       "5029656                                  Euro area         EMU   \n",
       "5030300  Europe & Central Asia (all income levels)         ECS   \n",
       "5031157    Europe & Central Asia (developing only)         ECA   \n",
       "5031751                             European Union         EUU   \n",
       "\n",
       "                                      IndicatorName   IndicatorCode  Year  \\\n",
       "5027728  Self-employed, total (% of total employed)  SL.EMP.SELF.ZS  2011   \n",
       "5029656  Self-employed, total (% of total employed)  SL.EMP.SELF.ZS  2011   \n",
       "5030300  Self-employed, total (% of total employed)  SL.EMP.SELF.ZS  2011   \n",
       "5031157  Self-employed, total (% of total employed)  SL.EMP.SELF.ZS  2011   \n",
       "5031751  Self-employed, total (% of total employed)  SL.EMP.SELF.ZS  2011   \n",
       "\n",
       "             Value  \n",
       "5027728  21.422639  \n",
       "5029656  15.887826  \n",
       "5030300  17.945656  \n",
       "5031157  32.870729  \n",
       "5031751  16.645202  "
      ]
     },
     "execution_count": 269,
     "metadata": {},
     "output_type": "execute_result"
    }
   ],
   "source": [
    "# select CO2 emissions for all countries in 2011\n",
    "hist_indicator = 'Self-employed, total \\(%'\n",
    "hist_year = 2011\n",
    "\n",
    "mask1 = data['IndicatorName'].str.contains(hist_indicator) \n",
    "mask2 = data['Year'].isin([hist_year])\n",
    "\n",
    "# apply our mask\n",
    "empl_2011 = data[mask1 & mask2]\n",
    "empl_2011.head()"
   ]
  },
  {
   "cell_type": "markdown",
   "metadata": {},
   "source": [
    "For how many countries do we have Self employment % in 2011"
   ]
  },
  {
   "cell_type": "code",
   "execution_count": 270,
   "metadata": {},
   "outputs": [
    {
     "name": "stdout",
     "output_type": "stream",
     "text": [
      "116\n"
     ]
    }
   ],
   "source": [
    "print(len(empl_2011))"
   ]
  },
  {
   "cell_type": "code",
   "execution_count": 271,
   "metadata": {},
   "outputs": [
    {
     "data": {
      "image/png": "[encoded data removed]",
      "text/plain": [
       "<Figure size 720x504 with 1 Axes>"
      ]
     },
     "metadata": {
      "needs_background": "light"
     },
     "output_type": "display_data"
    }
   ],
   "source": [
    "# let's plot a histogram of the self employment % by country\n",
    "\n",
    "# subplots returns a touple with the figure, axis attributes.\n",
    "\n",
    "fig, ax = plt.subplots(figsize=(10,7))\n",
    "\n",
    "ax.annotate(\"Poland\",\n",
    "            xy=(25, 16), xycoords='data',\n",
    "            xytext=(30, 25), textcoords='data',\n",
    "            arrowprops=dict(arrowstyle=\"->\",\n",
    "                            connectionstyle=\"arc3\"),\n",
    "            )\n",
    "\n",
    "plt.hist(empl_2011['Value'], 10, density=False, facecolor='blue')\n",
    "\n",
    "plt.xlabel(stage['IndicatorName'].iloc[0])\n",
    "plt.ylabel('# of Countries')\n",
    "plt.title('Histogram of self employment %')\n",
    "\n",
    "plt.grid(True)\n",
    "\n",
    "plt.show()"
   ]
  },
  {
   "cell_type": "markdown",
   "metadata": {},
   "source": [
    "So Poland, at ~25% self employment is among the average of all countries\n",
    "\n",
    "An interesting next step, would be to explore how this relates to other industrialized nations and to look at the outliers with those values in the 40s!"
   ]
  },
  {
   "cell_type": "markdown",
   "metadata": {},
   "source": [
    "# Step 3: Analyze the correlation between two indicators"
   ]
  },
  {
   "cell_type": "markdown",
   "metadata": {},
   "source": [
    "### Relationship between GPD and Self employment % in Poland, Colombia and USA"
   ]
  },
  {
   "cell_type": "code",
   "execution_count": 272,
   "metadata": {},
   "outputs": [],
   "source": [
    "# select GDP Per capita emissions for Poland\n",
    "hist_indicator = 'GDP per capita \\(constant 2005'\n",
    "hist_country = 'POL'\n",
    "hist_country_2 = 'COL'\n",
    "hist_country_3 = 'USA'\n",
    "\n",
    "mask1 = data['IndicatorName'].str.contains(hist_indicator) \n",
    "mask2 = data['CountryCode'].str.contains(hist_country)\n",
    "mask3 = data['CountryCode'].str.contains(hist_country_2)\n",
    "mask4 = data['CountryCode'].str.contains(hist_country_3)\n",
    "\n",
    "\n",
    "# combine mask 1 and 2\n",
    "gdp_stage = data[mask1 & mask2]\n",
    "gdp_stage2 = data[mask1&mask3]\n",
    "gdp_stage3 = data[mask1&mask4]"
   ]
  },
  {
   "cell_type": "code",
   "execution_count": 273,
   "metadata": {},
   "outputs": [
    {
     "data": {
      "text/html": [
       "<div>\n",
       "<style scoped>\n",
       "    .dataframe tbody tr th:only-of-type {\n",
       "        vertical-align: middle;\n",
       "    }\n",
       "\n",
       "    .dataframe tbody tr th {\n",
       "        vertical-align: top;\n",
       "    }\n",
       "\n",
       "    .dataframe thead th {\n",
       "        text-align: right;\n",
       "    }\n",
       "</style>\n",
       "<table border=\"1\" class=\"dataframe\">\n",
       "  <thead>\n",
       "    <tr style=\"text-align: right;\">\n",
       "      <th></th>\n",
       "      <th>CountryName</th>\n",
       "      <th>CountryCode</th>\n",
       "      <th>IndicatorName</th>\n",
       "      <th>IndicatorCode</th>\n",
       "      <th>Year</th>\n",
       "      <th>Value</th>\n",
       "    </tr>\n",
       "  </thead>\n",
       "  <tbody>\n",
       "    <tr>\n",
       "      <th>1969896</th>\n",
       "      <td>Poland</td>\n",
       "      <td>POL</td>\n",
       "      <td>GDP per capita (constant 2005 US$)</td>\n",
       "      <td>NY.GDP.PCAP.KD</td>\n",
       "      <td>1990</td>\n",
       "      <td>4761.075493</td>\n",
       "    </tr>\n",
       "    <tr>\n",
       "      <th>2086226</th>\n",
       "      <td>Poland</td>\n",
       "      <td>POL</td>\n",
       "      <td>GDP per capita (constant 2005 US$)</td>\n",
       "      <td>NY.GDP.PCAP.KD</td>\n",
       "      <td>1991</td>\n",
       "      <td>4411.384448</td>\n",
       "    </tr>\n",
       "    <tr>\n",
       "      <th>2206480</th>\n",
       "      <td>Poland</td>\n",
       "      <td>POL</td>\n",
       "      <td>GDP per capita (constant 2005 US$)</td>\n",
       "      <td>NY.GDP.PCAP.KD</td>\n",
       "      <td>1992</td>\n",
       "      <td>4508.481926</td>\n",
       "    </tr>\n",
       "  </tbody>\n",
       "</table>\n",
       "</div>"
      ],
      "text/plain": [
       "        CountryName CountryCode                       IndicatorName  \\\n",
       "1969896      Poland         POL  GDP per capita (constant 2005 US$)   \n",
       "2086226      Poland         POL  GDP per capita (constant 2005 US$)   \n",
       "2206480      Poland         POL  GDP per capita (constant 2005 US$)   \n",
       "\n",
       "          IndicatorCode  Year        Value  \n",
       "1969896  NY.GDP.PCAP.KD  1990  4761.075493  \n",
       "2086226  NY.GDP.PCAP.KD  1991  4411.384448  \n",
       "2206480  NY.GDP.PCAP.KD  1992  4508.481926  "
      ]
     },
     "execution_count": 273,
     "metadata": {},
     "output_type": "execute_result"
    }
   ],
   "source": [
    "gdp_stage.head(3)"
   ]
  },
  {
   "cell_type": "code",
   "execution_count": 274,
   "metadata": {},
   "outputs": [
    {
     "data": {
      "text/html": [
       "<div>\n",
       "<style scoped>\n",
       "    .dataframe tbody tr th:only-of-type {\n",
       "        vertical-align: middle;\n",
       "    }\n",
       "\n",
       "    .dataframe tbody tr th {\n",
       "        vertical-align: top;\n",
       "    }\n",
       "\n",
       "    .dataframe thead th {\n",
       "        text-align: right;\n",
       "    }\n",
       "</style>\n",
       "<table border=\"1\" class=\"dataframe\">\n",
       "  <thead>\n",
       "    <tr style=\"text-align: right;\">\n",
       "      <th></th>\n",
       "      <th>CountryName</th>\n",
       "      <th>CountryCode</th>\n",
       "      <th>IndicatorName</th>\n",
       "      <th>IndicatorCode</th>\n",
       "      <th>Year</th>\n",
       "      <th>Value</th>\n",
       "    </tr>\n",
       "  </thead>\n",
       "  <tbody>\n",
       "    <tr>\n",
       "      <th>1074047</th>\n",
       "      <td>Poland</td>\n",
       "      <td>POL</td>\n",
       "      <td>Self-employed, total (% of total employed)</td>\n",
       "      <td>SL.EMP.SELF.ZS</td>\n",
       "      <td>1980</td>\n",
       "      <td>25.400000</td>\n",
       "    </tr>\n",
       "    <tr>\n",
       "      <th>1157619</th>\n",
       "      <td>Poland</td>\n",
       "      <td>POL</td>\n",
       "      <td>Self-employed, total (% of total employed)</td>\n",
       "      <td>SL.EMP.SELF.ZS</td>\n",
       "      <td>1981</td>\n",
       "      <td>25.700001</td>\n",
       "    </tr>\n",
       "    <tr>\n",
       "      <th>1242583</th>\n",
       "      <td>Poland</td>\n",
       "      <td>POL</td>\n",
       "      <td>Self-employed, total (% of total employed)</td>\n",
       "      <td>SL.EMP.SELF.ZS</td>\n",
       "      <td>1982</td>\n",
       "      <td>26.900000</td>\n",
       "    </tr>\n",
       "  </tbody>\n",
       "</table>\n",
       "</div>"
      ],
      "text/plain": [
       "        CountryName CountryCode                               IndicatorName  \\\n",
       "1074047      Poland         POL  Self-employed, total (% of total employed)   \n",
       "1157619      Poland         POL  Self-employed, total (% of total employed)   \n",
       "1242583      Poland         POL  Self-employed, total (% of total employed)   \n",
       "\n",
       "          IndicatorCode  Year      Value  \n",
       "1074047  SL.EMP.SELF.ZS  1980  25.400000  \n",
       "1157619  SL.EMP.SELF.ZS  1981  25.700001  \n",
       "1242583  SL.EMP.SELF.ZS  1982  26.900000  "
      ]
     },
     "execution_count": 274,
     "metadata": {},
     "output_type": "execute_result"
    }
   ],
   "source": [
    "stage.head(3)"
   ]
  },
  {
   "cell_type": "code",
   "execution_count": 276,
   "metadata": {},
   "outputs": [
    {
     "data": {
      "image/png": "[encoded data removed]",
      "text/plain": [
       "<Figure size 720x504 with 1 Axes>"
      ]
     },
     "metadata": {
      "needs_background": "light"
     },
     "output_type": "display_data"
    }
   ],
   "source": [
    "# switch to a line plot\n",
    "\n",
    "fig, axis = plt.subplots(figsize=(10,7))  \n",
    "\n",
    "plt.plot(gdp_stage['Year'].values, gdp_stage['Value'].values)\n",
    "plt.plot(gdp_stage2['Year'].values, gdp_stage2['Value'].values)\n",
    "plt.plot(gdp_stage3['Year'].values, gdp_stage3['Value'].values)\n",
    "\n",
    "# Label the axes and title\n",
    "axis.set_title('GDP Per Capita in Poland, Colombia, USA',fontsize=20, pad=25)\n",
    "axis.set_xlabel('Year',fontsize=12, labelpad=25)\n",
    "axis.set_ylabel(gdp_stage['IndicatorName'].iloc[0],fontsize=12, labelpad=25)\n",
    "\n",
    "plt.gca().legend(('POL','COL','USA'))\n",
    "\n",
    "# to make more honest, start they y axis at 0\n",
    "plt.axis([1990, 2015,0,50000])\n",
    "\n",
    "plt.show()\n"
   ]
  },
  {
   "cell_type": "markdown",
   "metadata": {},
   "source": [
    "So although we've seen a decline in the self employment, it does not seem to translate to a decline in GDP per capita"
   ]
  },
  {
   "cell_type": "markdown",
   "metadata": {},
   "source": [
    "### ScatterPlot for comparing GDP against Self employment in Poland in age range 1994-2013\n",
    "\n",
    "First, we'll need to make sure we're looking at the same time frames"
   ]
  },
  {
   "cell_type": "code",
   "execution_count": 277,
   "metadata": {},
   "outputs": [
    {
     "name": "stdout",
     "output_type": "stream",
     "text": [
      "GDP Min Year =  1990 max:  2014\n",
      "Self-employment Min Year =  1980 max:  2014\n"
     ]
    }
   ],
   "source": [
    "print(\"GDP Min Year = \", gdp_stage['Year'].min(), \"max: \", gdp_stage['Year'].max())\n",
    "print(\"Self-employment Min Year = \", stage['Year'].min(), \"max: \", stage['Year'].max())"
   ]
  },
  {
   "cell_type": "markdown",
   "metadata": {},
   "source": [
    "We have 10 extra years of Self-emploument data, so we need to trim those off so the scatterplot has equal length arrays to compare"
   ]
  },
  {
   "cell_type": "code",
   "execution_count": 278,
   "metadata": {},
   "outputs": [
    {
     "name": "stdout",
     "output_type": "stream",
     "text": [
      "20\n",
      "20\n"
     ]
    }
   ],
   "source": [
    "gdp_stage_trunc_1 = gdp_stage[gdp_stage['Year'] > 1993]\n",
    "gdp_stage_trunc = gdp_stage_trunc_1[gdp_stage_trunc_1['Year'] < 2014]\n",
    "stage_1 = stage[stage['Year'] > 1993]\n",
    "stage = stage_1[stage_1['Year'] < 2014]\n",
    "print(len(gdp_stage_trunc))\n",
    "print(len(stage))"
   ]
  },
  {
   "cell_type": "code",
   "execution_count": 281,
   "metadata": {},
   "outputs": [
    {
     "data": {
      "text/plain": [
       "[<matplotlib.lines.Line2D at 0x1e7a493a400>]"
      ]
     },
     "execution_count": 281,
     "metadata": {},
     "output_type": "execute_result"
    },
    {
     "data": {
      "image/png": "[encoded data removed]",
      "text/plain": [
       "<Figure size 720x504 with 1 Axes>"
      ]
     },
     "metadata": {
      "needs_background": "light"
     },
     "output_type": "display_data"
    }
   ],
   "source": [
    "%matplotlib inline\n",
    "import matplotlib.pyplot as plt\n",
    "\n",
    "fig, axis = plt.subplots(figsize=(10,7))   \n",
    "\n",
    "# Grid lines, Xticks, Xlabel, Ylabel\n",
    "\n",
    "axis.yaxis.grid(True)\n",
    "axis.set_title('Self-emplyment rate vs. GDP per capita correlation for Poland',fontsize=20, pad=25)\n",
    "axis.set_xlabel(gdp_stage_trunc['IndicatorName'].iloc[0],fontsize=12, labelpad=25)\n",
    "axis.set_ylabel(stage['IndicatorName'].iloc[0],fontsize=12, labelpad=25)\n",
    "\n",
    "\n",
    "X = gdp_stage_trunc['Value']\n",
    "Y = stage['Value']\n",
    "\n",
    "axis.scatter(X, Y)\n",
    "\n",
    "m, b = np.polyfit(X, Y, 1)\n",
    "plt.plot(X, m*X + b, \"red\")\n"
   ]
  },
  {
   "cell_type": "markdown",
   "metadata": {},
   "source": [
    "This look like there is a strong relationship.  We can test this by looking at correlation."
   ]
  },
  {
   "cell_type": "code",
   "execution_count": 228,
   "metadata": {},
   "outputs": [
    {
     "data": {
      "text/plain": [
       "array([[ 1.        , -0.97554446],\n",
       "       [-0.97554446,  1.        ]])"
      ]
     },
     "execution_count": 228,
     "metadata": {},
     "output_type": "execute_result"
    }
   ],
   "source": [
    "np.corrcoef(gdp_stage_trunc['Value'],stage['Value'])"
   ]
  },
  {
   "cell_type": "markdown",
   "metadata": {},
   "source": [
    "A correlation of -0.97 is very strong negative correlation."
   ]
  },
  {
   "cell_type": "markdown",
   "metadata": {},
   "source": [
    "### ScatterPlot for comparing GDP against Self employment in Colombia in age range 1994-2013\n",
    "\n",
    "First, we'll need to make sure we're looking at the same time frames"
   ]
  },
  {
   "cell_type": "code",
   "execution_count": 229,
   "metadata": {},
   "outputs": [
    {
     "name": "stdout",
     "output_type": "stream",
     "text": [
      "GDP Min Year =  1960 max:  2014\n",
      "Self-employment Min Year =  1992 max:  2013\n"
     ]
    }
   ],
   "source": [
    "print(\"GDP Min Year = \", gdp_stage2['Year'].min(), \"max: \", gdp_stage2['Year'].max())\n",
    "print(\"Self-employment Min Year = \", stage2['Year'].min(), \"max: \", stage2['Year'].max())"
   ]
  },
  {
   "cell_type": "code",
   "execution_count": 283,
   "metadata": {},
   "outputs": [
    {
     "name": "stdout",
     "output_type": "stream",
     "text": [
      "20\n",
      "20\n"
     ]
    }
   ],
   "source": [
    "gdp_stage_trunc_1 = gdp_stage2[gdp_stage2['Year'] > 1993]\n",
    "gdp_stage_trunc = gdp_stage_trunc_1[gdp_stage_trunc_1['Year'] < 2014]\n",
    "stage2 = stage2[stage2['Year'] > 1993]\n",
    "print(len(gdp_stage_trunc))\n",
    "print(len(stage2))"
   ]
  },
  {
   "cell_type": "code",
   "execution_count": 285,
   "metadata": {},
   "outputs": [
    {
     "data": {
      "text/plain": [
       "[<matplotlib.lines.Line2D at 0x1e7a4b55d60>]"
      ]
     },
     "execution_count": 285,
     "metadata": {},
     "output_type": "execute_result"
    },
    {
     "data": {
      "image/png": "[encoded data removed]",
      "text/plain": [
       "<Figure size 720x504 with 1 Axes>"
      ]
     },
     "metadata": {
      "needs_background": "light"
     },
     "output_type": "display_data"
    }
   ],
   "source": [
    "%matplotlib inline\n",
    "import matplotlib.pyplot as plt\n",
    "\n",
    "fig, axis = plt.subplots(figsize=(10,7))   \n",
    "\n",
    "# Grid lines, Xticks, Xlabel, Ylabel\n",
    "\n",
    "axis.yaxis.grid(True)\n",
    "axis.set_title('Self-emplyment rate vs. GDP per capita correlation for Colombia',fontsize=20, pad=25)\n",
    "axis.set_xlabel(gdp_stage_trunc['IndicatorName'].iloc[0],fontsize=12, labelpad=25)\n",
    "axis.set_ylabel(stage2['IndicatorName'].iloc[0],fontsize=12, labelpad=25)\n",
    "\n",
    "\n",
    "X = gdp_stage_trunc['Value']\n",
    "Y = stage2['Value']\n",
    "\n",
    "axis.scatter(X, Y)\n",
    "\n",
    "m, b = np.polyfit(X, Y, 1)\n",
    "plt.plot(X, m*X + b, \"red\")\n"
   ]
  },
  {
   "cell_type": "code",
   "execution_count": 286,
   "metadata": {},
   "outputs": [
    {
     "data": {
      "text/plain": [
       "array([[1.       , 0.6160888],\n",
       "       [0.6160888, 1.       ]])"
      ]
     },
     "execution_count": 286,
     "metadata": {},
     "output_type": "execute_result"
    }
   ],
   "source": [
    "np.corrcoef(gdp_stage_trunc['Value'],stage2['Value'])"
   ]
  },
  {
   "cell_type": "markdown",
   "metadata": {},
   "source": [
    "### ScatterPlot for comparing GDP against Self employment in USA in age range 1994-2013\n",
    "\n",
    "First, we'll need to make sure we're looking at the same time frames"
   ]
  },
  {
   "cell_type": "code",
   "execution_count": 287,
   "metadata": {},
   "outputs": [
    {
     "name": "stdout",
     "output_type": "stream",
     "text": [
      "GDP Min Year =  1960 max:  2014\n",
      "Self-employment Min Year =  1980 max:  2013\n"
     ]
    }
   ],
   "source": [
    "print(\"GDP Min Year = \", gdp_stage3['Year'].min(), \"max: \", gdp_stage3['Year'].max())\n",
    "print(\"Self-employment Min Year = \", stage3['Year'].min(), \"max: \", stage3['Year'].max())"
   ]
  },
  {
   "cell_type": "code",
   "execution_count": 288,
   "metadata": {},
   "outputs": [
    {
     "name": "stdout",
     "output_type": "stream",
     "text": [
      "20\n",
      "20\n"
     ]
    }
   ],
   "source": [
    "gdp_stage_trunc_1 = gdp_stage3[gdp_stage3['Year'] > 1993]\n",
    "gdp_stage_trunc = gdp_stage_trunc_1[gdp_stage_trunc_1['Year'] < 2014]\n",
    "stage3 = stage3[stage3['Year'] > 1993]\n",
    "print(len(gdp_stage_trunc))\n",
    "print(len(stage3))"
   ]
  },
  {
   "cell_type": "code",
   "execution_count": 289,
   "metadata": {},
   "outputs": [
    {
     "data": {
      "text/plain": [
       "[<matplotlib.lines.Line2D at 0x1e7a37a0f10>]"
      ]
     },
     "execution_count": 289,
     "metadata": {},
     "output_type": "execute_result"
    },
    {
     "data": {
      "image/png": "[encoded data removed]",
      "text/plain": [
       "<Figure size 720x504 with 1 Axes>"
      ]
     },
     "metadata": {
      "needs_background": "light"
     },
     "output_type": "display_data"
    }
   ],
   "source": [
    "%matplotlib inline\n",
    "import matplotlib.pyplot as plt\n",
    "\n",
    "fig, axis = plt.subplots(figsize=(10,7))   \n",
    "\n",
    "# Grid lines, Xticks, Xlabel, Ylabel\n",
    "axis.yaxis.grid(True)\n",
    "axis.set_title('Self-emplyment rate vs. GDP per capita correlation for USA',fontsize=20, pad=25)\n",
    "axis.set_xlabel(gdp_stage_trunc['IndicatorName'].iloc[0],fontsize=12, labelpad=25)\n",
    "axis.set_ylabel(stage3['IndicatorName'].iloc[0],fontsize=12, labelpad=25)\n",
    "\n",
    "\n",
    "X = gdp_stage_trunc['Value']\n",
    "Y = stage3['Value']\n",
    "\n",
    "axis.scatter(X, Y)\n",
    "\n",
    "m, b = np.polyfit(X, Y, 1)\n",
    "plt.plot(X, m*X + b, \"red\")"
   ]
  },
  {
   "cell_type": "code",
   "execution_count": 290,
   "metadata": {},
   "outputs": [
    {
     "data": {
      "text/plain": [
       "array([[ 1.        , -0.91665104],\n",
       "       [-0.91665104,  1.        ]])"
      ]
     },
     "execution_count": 290,
     "metadata": {},
     "output_type": "execute_result"
    }
   ],
   "source": [
    "np.corrcoef(gdp_stage_trunc['Value'],stage3['Value'])"
   ]
  }
 ],
 "metadata": {
  "kernelspec": {
   "display_name": "Python 3",
   "language": "python",
   "name": "python3"
  },
  "language_info": {
   "codemirror_mode": {
    "name": "ipython",
    "version": 3
   },
   "file_extension": ".py",
   "mimetype": "text/x-python",
   "name": "python",
   "nbconvert_exporter": "python",
   "pygments_lexer": "ipython3",
   "version": "3.8.8"
  }
 },
 "nbformat": 4,
 "nbformat_minor": 2
}
